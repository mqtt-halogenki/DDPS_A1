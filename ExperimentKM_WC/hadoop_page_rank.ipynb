{
 "cells": [
  {
   "cell_type": "code",
   "execution_count": 64,
   "id": "9b2a320c",
   "metadata": {},
   "outputs": [],
   "source": [
    "import pandas as pd\n",
    "import numpy as np\n",
    "import seaborn as sns"
   ]
  },
  {
   "cell_type": "code",
   "execution_count": 45,
   "id": "04a678cc",
   "metadata": {},
   "outputs": [],
   "source": [
    "def getData(filename):\n",
    "    with open(filename,'r') as f:\n",
    "        data = f.read()\n",
    "    experiments = data.split(\"Experiment\")[2:]\n",
    "    return experiments\n",
    "\n",
    "def get_cpu_total_time(iteration_log):\n",
    "    return round(float(iteration_log.split(\"CPU time spent\")[1].split(\"\\n\\t\")[0][6:]),2)\n",
    "    \n",
    "def getAverageIterTime(experiment_log):\n",
    "    '''\n",
    "    return average time of first iteration and mean afterwards\n",
    "    '''\n",
    "    ite_aft = []\n",
    "    ite_fir = get_cpu_total_time(experiment_log.split('iteration')[1])\n",
    "\n",
    "    iters_logs = experiment_log.split('iteration')[2:]\n",
    "    for iters in iters_logs:\n",
    "        ite_aft.append(get_cpu_total_time(iters))\n",
    "    return (ite_fir,np.mean(ite_aft))\n",
    "    \n",
    "# get average time\n",
    "def getAveExperiTime(experiments,isWC):\n",
    "    cpu_times = []\n",
    "    for i in range(len(experiments)):\n",
    "\n",
    "        try:\n",
    "            if isWC:\n",
    "                cpu_times.append(get_cpu_total_time(experiments[i]))\n",
    "            else: \n",
    "                cpu_times.append(getAverageIterTime(experiments[i]))\n",
    "        except:\n",
    "            continue\n",
    "        # return average s instead of milisecond\n",
    "    return np.mean(cpu_times,axis=0)/1000\n",
    "\n",
    "# read data from wordcount job\n",
    "\n",
    "def getWCStat(filename,nodes,WC):\n",
    "    experiments = getData(filename) \n",
    "    res = getAveExperiTime(experiments,WC)\n",
    "    if WC:\n",
    "        print(f'Average running time of wordcount in {nodes} nodes is {res}')\n",
    "    else:\n",
    "        print(f'Average running time of Kmeans in {nodes} nodes is {res}')\n",
    "    return res"
   ]
  },
  {
   "cell_type": "code",
   "execution_count": 99,
   "id": "ab38a7f7",
   "metadata": {},
   "outputs": [
    {
     "name": "stdout",
     "output_type": "stream",
     "text": [
      "Average running time of wordcount in 2 nodes is 411.7565517241379\n",
      "Average running time of wordcount in 4 nodes is 406.91\n",
      "Average running time of wordcount in 8 nodes is 391.76689655172413\n",
      "Average running time of Kmeans in 2 nodes is [304.39       288.81666667]\n",
      "Average running time of Kmeans in 4 nodes is [278.18666667 267.65407407]\n",
      "Average running time of Kmeans in 8 nodes is [311.91       294.43611111]\n"
     ]
    }
   ],
   "source": [
    "\n",
    "# Wordcount\n",
    "WC2N = getWCStat('WC_2N.txt',2,True) \n",
    "WC4N = getWCStat('WC_4N.txt',4,True) \n",
    "WC8N = getWCStat('WC_8N.txt',8,True) \n",
    "\n",
    "#hadoop\n",
    "KM2N = getWCStat('hadoopKM30_10_2N.txt',2,False)\n",
    "KM4N = getWCStat('hadoopKM30_10_4N.txt',4,False)\n",
    "KM8N = getWCStat('hadoopKM30_10_8N.txt',8,False)\n"
   ]
  },
  {
   "cell_type": "code",
   "execution_count": 117,
   "id": "18d5853f",
   "metadata": {},
   "outputs": [],
   "source": [
    "#################### plot\n",
    "def drawPlot(dataset,x,y,ifHue,z,x_label,y_label,img_name):\n",
    "    sns.set_theme(style=\"whitegrid\")\n",
    "    if ifHue:\n",
    "        g = sns.catplot(\n",
    "            data=dataset, kind=\"bar\",\n",
    "            x=x, y=y, hue=z,\n",
    "            errorbar=\"sd\",palette=\"dark\", alpha=.6, height=6,\n",
    "        )\n",
    "    else:\n",
    "        g = sns.catplot(\n",
    "            data=dataset, kind=\"bar\",\n",
    "            x=x, y=y, col=z,\n",
    "            errorbar=\"sd\",palette=\"dark\", alpha=.6, height=6\n",
    "        )\n",
    "    g.despine(left=True)\n",
    "    g.set_axis_labels(x_label, y_label)\n",
    "    g.savefig(img_name)"
   ]
  },
  {
   "cell_type": "code",
   "execution_count": 122,
   "id": "b5194bd6",
   "metadata": {},
   "outputs": [
    {
     "data": {
      "image/png": "[encoded data removed]",
      "text/plain": [
       "<Figure size 694.75x600 with 1 Axes>"
      ]
     },
     "metadata": {},
     "output_type": "display_data"
    }
   ],
   "source": [
    "# WC experiment\n",
    "# dataset = pd.DataFrame({'Platform': ['hadoop', 'hadoop','hadoop','Spark','Spark','Spark'], 'Iteration Time': [WC2N, WC4N,WC8N,80, 70,70], 'Nodes':[2,4,8,2,4,8]})\n",
    "# drawPlot(dataset,\"Nodes\",\"Iteration Time\",True,\"Platform\",\"Number of machines\",\"Iteration time(s)\", 'Nodes_comp1.png')\n",
    "\n",
    "# WC efficiency score\n",
    "# dataset = pd.DataFrame({'Platform': ['Spark','Spark','Spark'], 'Effi': [30.5,15.1,9.7], 'Nodes':[2,4,8]})\n",
    "# drawPlot(dataset,x=\"Nodes\", y=\"Effi\", False, \"Platform\",\"Number of machines\", \"Efficiency Score(%)\", 'EFF_SCO.png')\n",
    "\n",
    "# KM total experiment\n",
    "# dataset = pd.DataFrame({'Platform': ['hadoop', 'hadoop','hadoop','Spark','Spark','Spark'], 'Iteration Time': [np.mean(WC2N), np.mean(WC4N),np.mean(WC8N),85,53,40], 'Nodes':[2,4,8,2,4,8]})\n",
    "# drawPlot(dataset,\"Nodes\",\"Iteration Time\",True,\"Platform\",\"Number of machines\",\"Iteration time(s)\", 'KM.png')\n",
    "\n",
    "#KM expriment in hadoop among iterations\n",
    "dataset = pd.DataFrame({'Iteration': ['Frist', 'Frist','Frist','Later','Later','Later'], 'Iteration Time': [KM2N[0],KM4N[0],KM8N[0],KM2N[1],KM4N[1],KM8N[1]], 'Nodes':[2,4,8,2,4,8]})\n",
    "drawPlot(dataset,\"Nodes\",\"Iteration Time\",True,\"Iteration\",\"Number of machines\",\"Iteration time(s)\", 'Nodes_ITER_KM.png')\n",
    "\n",
    "# KM efficiency score\n",
    "# dataset = pd.DataFrame({'Platform': ['Spark','Spark','Spark'], 'Effi': [79.4,57.3,21.2], 'Nodes':[2,4,8]})\n",
    "# drawPlot(dataset,x=\"Nodes\", y=\"Effi\", ifHue = False,z=\"Platform\",x_label=\"Number of machines\", y_label=\"Efficiency Score(%)\", img_name='EFF_SCO_KM.png')\n"
   ]
  },
  {
   "cell_type": "code",
   "execution_count": null,
   "id": "f06dc122",
   "metadata": {},
   "outputs": [],
   "source": []
  }
 ],
 "metadata": {
  "kernelspec": {
   "display_name": "Python 3.8.13 ('base')",
   "language": "python",
   "name": "python3"
  },
  "language_info": {
   "codemirror_mode": {
    "name": "ipython",
    "version": 3
   },
   "file_extension": ".py",
   "mimetype": "text/x-python",
   "name": "python",
   "nbconvert_exporter": "python",
   "pygments_lexer": "ipython3",
   "version": "3.8.13"
  },
  "vscode": {
   "interpreter": {
    "hash": "a5c3211d807301bf31092c48025cbf108e36ce5a3bda20fc627d123bf434fc06"
   }
  }
 },
 "nbformat": 4,
 "nbformat_minor": 5
}
