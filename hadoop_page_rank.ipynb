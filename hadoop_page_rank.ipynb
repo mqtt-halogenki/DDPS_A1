{
 "cells": [
  {
   "cell_type": "code",
   "execution_count": 189,
   "id": "9b2a320c",
   "metadata": {},
   "outputs": [],
   "source": [
    "import pandas as pd\n",
    "import seaborn as sns\n",
    "import numpy as np"
   ]
  },
  {
   "cell_type": "code",
   "execution_count": 72,
   "id": "2b540c51",
   "metadata": {},
   "outputs": [],
   "source": [
    "files_4_nodes = ['hadoop_30_reps_p1.txt','hadoop_30_reps_p2.txt','hadoop_30_reps_p3.txt']\n",
    "files_8_nodes = ['hadoop_30_reps_p1_8_nodes.txt','hadoop_30_reps_p2_8_nodes.txt']"
   ]
  },
  {
   "cell_type": "code",
   "execution_count": 73,
   "id": "d7e0653a",
   "metadata": {},
   "outputs": [],
   "source": [
    "hadoop_times = []"
   ]
  },
  {
   "cell_type": "code",
   "execution_count": 88,
   "id": "8e1d7a57",
   "metadata": {},
   "outputs": [],
   "source": [
    "def process_experiments(files):\n",
    "    \n",
    "    hadoop_times = []\n",
    "    \n",
    "    for file in files:\n",
    "        data = open(file,'r').read()\n",
    "        experiments = data.split(\"Experiment\")\n",
    "        experiments = experiments[2:]\n",
    "        for experiment in experiments:\n",
    "            hadoop_times.append(get_iteration_times(experiment))\n",
    "    return hadoop_times"
   ]
  },
  {
   "cell_type": "code",
   "execution_count": 89,
   "id": "04a678cc",
   "metadata": {},
   "outputs": [],
   "source": [
    "def get_cpu_total_time(iteration_log):\n",
    "    try:\n",
    "        return iteration_log.split(\"CPU time spent\")[1].split(\"\\n\\t\")[0][6:]\n",
    "    except:\n",
    "        pass"
   ]
  },
  {
   "cell_type": "code",
   "execution_count": 90,
   "id": "dbf6bcde",
   "metadata": {},
   "outputs": [],
   "source": [
    "def get_iteration_times(experiment_log):\n",
    "    iteration_times = []\n",
    "    iters_logs = experiment_log.split(\"Iteration\")[1:]\n",
    "    for iters in iters_logs:\n",
    "        iteration_times.append(get_cpu_total_time(iters))\n",
    "    return iteration_times"
   ]
  },
  {
   "cell_type": "code",
   "execution_count": 91,
   "id": "2b56d85d",
   "metadata": {},
   "outputs": [],
   "source": [
    "experiment_times_4 = process_experiments(files_4_nodes)"
   ]
  },
  {
   "cell_type": "code",
   "execution_count": 92,
   "id": "68efa882",
   "metadata": {},
   "outputs": [],
   "source": [
    "experiment_times_8 =  process_experiments(files_8_nodes)"
   ]
  },
  {
   "cell_type": "code",
   "execution_count": 116,
   "id": "91e941f6",
   "metadata": {},
   "outputs": [],
   "source": [
    "e4 = [item for sublist in experiment_times_4 for item in sublist if item is not None]\n",
    "e8 = [item for sublist in experiment_times_8 for item in sublist if item is not None]"
   ]
  },
  {
   "cell_type": "code",
   "execution_count": 194,
   "id": "7489c45b",
   "metadata": {},
   "outputs": [
    {
     "name": "stderr",
     "output_type": "stream",
     "text": [
      "C:\\Users\\magda\\AppData\\Local\\Temp/ipykernel_18964/2240296940.py:1: DeprecationWarning: `np.float` is a deprecated alias for the builtin `float`. To silence this warning, use `float` by itself. Doing this will not modify any behavior and is safe. If you specifically wanted the numpy scalar type, use `np.float64` here.\n",
      "Deprecated in NumPy 1.20; for more details and guidance: https://numpy.org/devdocs/release/1.20.0-notes.html#deprecations\n",
      "  np.mean(np.array(e4).astype(np.float)/1000)\n"
     ]
    },
    {
     "data": {
      "text/plain": [
       "3.6993360160965794"
      ]
     },
     "execution_count": 194,
     "metadata": {},
     "output_type": "execute_result"
    }
   ],
   "source": [
    "np.mean(np.array(e4).astype(np.float)/1000)"
   ]
  },
  {
   "cell_type": "code",
   "execution_count": 121,
   "id": "eab788cb",
   "metadata": {},
   "outputs": [
    {
     "name": "stderr",
     "output_type": "stream",
     "text": [
      "C:\\Users\\magda\\AppData\\Local\\Temp/ipykernel_18964/861555079.py:1: DeprecationWarning: `np.float` is a deprecated alias for the builtin `float`. To silence this warning, use `float` by itself. Doing this will not modify any behavior and is safe. If you specifically wanted the numpy scalar type, use `np.float64` here.\n",
      "Deprecated in NumPy 1.20; for more details and guidance: https://numpy.org/devdocs/release/1.20.0-notes.html#deprecations\n",
      "  np.mean(np.array(e8).astype(np.float))\n"
     ]
    },
    {
     "data": {
      "text/plain": [
       "3460.4761904761904"
      ]
     },
     "execution_count": 121,
     "metadata": {},
     "output_type": "execute_result"
    }
   ],
   "source": [
    "np.mean(np.array(e8).astype(np.float))"
   ]
  },
  {
   "cell_type": "code",
   "execution_count": 180,
   "id": "a579df85",
   "metadata": {},
   "outputs": [],
   "source": [
    "spark_files = ['PG_Spark_4.txt','PG_Spark_8.txt']"
   ]
  },
  {
   "cell_type": "code",
   "execution_count": 181,
   "id": "781e584a",
   "metadata": {},
   "outputs": [],
   "source": [
    "def run_spark_analysis():\n",
    "    p = []\n",
    "    for file in spark_files:\n",
    "        data = open(file,'r').read()\n",
    "        p.append(get_performance(data))\n",
    "    return p"
   ]
  },
  {
   "cell_type": "code",
   "execution_count": 182,
   "id": "7a7ed5c1",
   "metadata": {},
   "outputs": [],
   "source": [
    "p4 = run_spark_analysis()[0]\n",
    "p8 = run_spark_analysis()[1]"
   ]
  },
  {
   "cell_type": "code",
   "execution_count": 183,
   "id": "82806b13",
   "metadata": {},
   "outputs": [],
   "source": [
    "p4 = [x for x in p4 if x < 40]\n",
    "p8 = [x for x in p8 if x < 40]"
   ]
  },
  {
   "cell_type": "code",
   "execution_count": 176,
   "id": "f26fb2d3",
   "metadata": {},
   "outputs": [
    {
     "data": {
      "text/plain": [
       "[[21,\n",
       "  21,\n",
       "  19,\n",
       "  20,\n",
       "  19,\n",
       "  21,\n",
       "  20,\n",
       "  19,\n",
       "  19,\n",
       "  20,\n",
       "  1500822353,\n",
       "  1500822371,\n",
       "  1500822388,\n",
       "  1500822406,\n",
       "  1500822423,\n",
       "  1500822441,\n",
       "  1500822458,\n",
       "  1500822476,\n",
       "  1500822494,\n",
       "  1500822511,\n",
       "  1500822528,\n",
       "  1500822546,\n",
       "  1500822564,\n",
       "  1500822580,\n",
       "  1500822598,\n",
       "  1500822615,\n",
       "  1500822633,\n",
       "  1500822650,\n",
       "  1500822666],\n",
       " [22,\n",
       "  19,\n",
       "  20,\n",
       "  19,\n",
       "  20,\n",
       "  20,\n",
       "  20,\n",
       "  19,\n",
       "  19,\n",
       "  18,\n",
       "  1500821459,\n",
       "  1500821477,\n",
       "  1500821494,\n",
       "  1500821512,\n",
       "  1500821529,\n",
       "  1500821546,\n",
       "  1500821564,\n",
       "  1500821580,\n",
       "  1500821598,\n",
       "  1500821615,\n",
       "  1500821632,\n",
       "  1500821651,\n",
       "  1500821668,\n",
       "  1500821687,\n",
       "  1500821704,\n",
       "  1500821722,\n",
       "  1500821739,\n",
       "  1500821756,\n",
       "  1500821774,\n",
       "  21,\n",
       "  21,\n",
       "  19,\n",
       "  20,\n",
       "  19,\n",
       "  21,\n",
       "  20,\n",
       "  19,\n",
       "  19,\n",
       "  20,\n",
       "  1500822353,\n",
       "  1500822371,\n",
       "  1500822388,\n",
       "  1500822406,\n",
       "  1500822423,\n",
       "  1500822441,\n",
       "  1500822458,\n",
       "  1500822476,\n",
       "  1500822494,\n",
       "  1500822511,\n",
       "  1500822528,\n",
       "  1500822546,\n",
       "  1500822564,\n",
       "  1500822580,\n",
       "  1500822598,\n",
       "  1500822615,\n",
       "  1500822633,\n",
       "  1500822650,\n",
       "  1500822666]]"
      ]
     },
     "execution_count": 176,
     "metadata": {},
     "output_type": "execute_result"
    }
   ],
   "source": [
    "e4 = [item for sublist in experiment_times_4 for item in sublist if item is not None]\n"
   ]
  },
  {
   "cell_type": "code",
   "execution_count": 146,
   "id": "e0aa0eb9",
   "metadata": {},
   "outputs": [],
   "source": [
    "import time"
   ]
  },
  {
   "cell_type": "code",
   "execution_count": 168,
   "id": "919d383a",
   "metadata": {},
   "outputs": [
    {
     "data": {
      "text/plain": [
       "1667579222"
      ]
     },
     "execution_count": 168,
     "metadata": {},
     "output_type": "execute_result"
    }
   ],
   "source": [
    "int(data.split(\"Experiment\")[3][6:16])"
   ]
  },
  {
   "cell_type": "code",
   "execution_count": 165,
   "id": "e14b7cca",
   "metadata": {},
   "outputs": [],
   "source": [
    "def get_performance(experiences_logs):\n",
    "    perf = []\n",
    "    for exp in experiences_logs.split(\"Experiment\"):\n",
    "        try:\n",
    "            perf.append(get_timestamps(exp))\n",
    "        except:\n",
    "            pass\n",
    "    return perf"
   ]
  },
  {
   "cell_type": "code",
   "execution_count": 175,
   "id": "29ca16e9",
   "metadata": {},
   "outputs": [],
   "source": [
    "def get_timestamps(experiment_d):\n",
    "    start = int(experiment_d[6:16])\n",
    "    end =  int(experiment_d[-11:-1])\n",
    "#     print(\"S\", start)\n",
    "#     print(\"E\", end)\n",
    "    duration = end - start\n",
    "    return duration"
   ]
  },
  {
   "cell_type": "code",
   "execution_count": null,
   "id": "b5fe3b7b",
   "metadata": {},
   "outputs": [],
   "source": []
  },
  {
   "cell_type": "code",
   "execution_count": 164,
   "id": "c84d8cd1",
   "metadata": {},
   "outputs": [
    {
     "name": "stdout",
     "output_type": "stream",
     "text": [
      "S 1667580212\n",
      "E 1667580231\n"
     ]
    },
    {
     "data": {
      "text/plain": [
       "19"
      ]
     },
     "execution_count": 164,
     "metadata": {},
     "output_type": "execute_result"
    }
   ],
   "source": [
    "get_timestamps(data.split(\"Experiment\")[3])"
   ]
  },
  {
   "cell_type": "code",
   "execution_count": 198,
   "id": "2e5f52d6",
   "metadata": {},
   "outputs": [
    {
     "name": "stderr",
     "output_type": "stream",
     "text": [
      "C:\\Users\\magda\\AppData\\Local\\Temp/ipykernel_18964/3501743544.py:1: DeprecationWarning: `np.float` is a deprecated alias for the builtin `float`. To silence this warning, use `float` by itself. Doing this will not modify any behavior and is safe. If you specifically wanted the numpy scalar type, use `np.float64` here.\n",
      "Deprecated in NumPy 1.20; for more details and guidance: https://numpy.org/devdocs/release/1.20.0-notes.html#deprecations\n",
      "  data = pd.DataFrame(data=[(np.mean(np.array(e4).astype(np.float)/100),4, 'hadoop'), (np.mean(np.array(e8).astype(np.float)/100),8,'hadoop'), (np.mean(np.array(p4).astype(np.float)),4,'spark'),(np.mean(np.array(p8).astype(np.float)),8,'spark')],columns=[\"i_time\",\"number_of_machines\",\"system\"])\n"
     ]
    }
   ],
   "source": [
    "data = pd.DataFrame(data=[(np.mean(np.array(e4).astype(np.float)/100),4, 'hadoop'), (np.mean(np.array(e8).astype(np.float)/100),8,'hadoop'), (np.mean(np.array(p4).astype(np.float)),4,'spark'),(np.mean(np.array(p8).astype(np.float)),8,'spark')],columns=[\"i_time\",\"number_of_machines\",\"system\"])"
   ]
  },
  {
   "cell_type": "code",
   "execution_count": 201,
   "id": "7a6a7e10",
   "metadata": {},
   "outputs": [
    {
     "name": "stderr",
     "output_type": "stream",
     "text": [
      "C:\\Users\\magda\\AppData\\Local\\Temp/ipykernel_18964/1560301630.py:1: DeprecationWarning: `np.float` is a deprecated alias for the builtin `float`. To silence this warning, use `float` by itself. Doing this will not modify any behavior and is safe. If you specifically wanted the numpy scalar type, use `np.float64` here.\n",
      "Deprecated in NumPy 1.20; for more details and guidance: https://numpy.org/devdocs/release/1.20.0-notes.html#deprecations\n",
      "  data_s = pd.DataFrame(data=[(np.min(np.array(e4).astype(np.float)/100),4, 'hadoop'), (np.min(np.array(e8).astype(np.float)/100),8,'hadoop'), (np.max(np.array(p4).astype(np.float)),4,'spark'),(np.max(np.array(p8).astype(np.float)),8,'spark')],columns=[\"i_time\",\"number_of_machines\",\"system\"])\n"
     ]
    }
   ],
   "source": [
    "data_s = pd.DataFrame(data=[(np.min(np.array(e4).astype(np.float)/100),4, 'hadoop'), (np.min(np.array(e8).astype(np.float)/100),8,'hadoop'), (np.max(np.array(p4).astype(np.float)),4,'spark'),(np.max(np.array(p8).astype(np.float)),8,'spark')],columns=[\"i_time\",\"number_of_machines\",\"system\"])"
   ]
  },
  {
   "cell_type": "code",
   "execution_count": 202,
   "id": "1e8b03d8",
   "metadata": {},
   "outputs": [
    {
     "name": "stderr",
     "output_type": "stream",
     "text": [
      "D:\\Users\\magda\\anaconda3\\lib\\site-packages\\seaborn\\categorical.py:3717: UserWarning: The `factorplot` function has been renamed to `catplot`. The original name will be removed in a future release. Please update your code. Note that the default `kind` in `factorplot` (`'point'`) has changed `'strip'` in `catplot`.\n",
      "  warnings.warn(msg)\n"
     ]
    },
    {
     "data": {
      "text/plain": [
       "<seaborn.axisgrid.FacetGrid at 0x1f60a4ca970>"
      ]
     },
     "execution_count": 202,
     "metadata": {},
     "output_type": "execute_result"
    },
    {
     "data": {
      "image/png": "[encoded data removed]",
      "text/plain": [
       "<Figure size 433.125x360 with 1 Axes>"
      ]
     },
     "metadata": {
      "needs_background": "light"
     },
     "output_type": "display_data"
    }
   ],
   "source": [
    "sns.factorplot(x='number_of_machines', y='i_time', hue='system', data=data_s, kind='bar',palette='dark')"
   ]
  },
  {
   "cell_type": "code",
   "execution_count": null,
   "id": "edd1fe19",
   "metadata": {},
   "outputs": [],
   "source": []
  },
  {
   "cell_type": "code",
   "execution_count": null,
   "id": "68ba5d71",
   "metadata": {},
   "outputs": [],
   "source": []
  }
 ],
 "metadata": {
  "kernelspec": {
   "display_name": "Python 3 (ipykernel)",
   "language": "python",
   "name": "python3"
  },
  "language_info": {
   "codemirror_mode": {
    "name": "ipython",
    "version": 3
   },
   "file_extension": ".py",
   "mimetype": "text/x-python",
   "name": "python",
   "nbconvert_exporter": "python",
   "pygments_lexer": "ipython3",
   "version": "3.8.8"
  }
 },
 "nbformat": 4,
 "nbformat_minor": 5
}
